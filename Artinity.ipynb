{
  "nbformat": 4,
  "nbformat_minor": 0,
  "metadata": {
    "colab": {
      "provenance": [],
      "toc_visible": true
    },
    "kernelspec": {
      "name": "python3",
      "display_name": "Python 3"
    },
    "language_info": {
      "name": "python"
    }
  },
  "cells": [
    {
      "cell_type": "code",
      "source": [
        "!pip install gradio\n",
        "!pip install sentencepiece==0.1.96\n",
        "!pip install transformers"
      ],
      "metadata": {
        "colab": {
          "base_uri": "https://localhost:8080/"
        },
        "id": "7EV61MBnlWDS",
        "outputId": "3cc94fb6-4658-40e9-da65-4d7e3ea7914c"
      },
      "execution_count": 1,
      "outputs": [
        {
          "output_type": "stream",
          "name": "stdout",
          "text": [
            "Looking in indexes: https://pypi.org/simple, https://us-python.pkg.dev/colab-wheels/public/simple/\n",
            "Collecting gradio\n",
            "  Downloading gradio-3.15.0-py3-none-any.whl (13.8 MB)\n",
            "\u001b[K     |████████████████████████████████| 13.8 MB 4.0 MB/s \n",
            "\u001b[?25hRequirement already satisfied: requests in /usr/local/lib/python3.8/dist-packages (from gradio) (2.23.0)\n",
            "Requirement already satisfied: altair>=4.2.0 in /usr/local/lib/python3.8/dist-packages (from gradio) (4.2.0)\n",
            "Collecting markdown-it-py[linkify,plugins]\n",
            "  Downloading markdown_it_py-2.1.0-py3-none-any.whl (84 kB)\n",
            "\u001b[K     |████████████████████████████████| 84 kB 3.5 MB/s \n",
            "\u001b[?25hCollecting uvicorn\n",
            "  Downloading uvicorn-0.20.0-py3-none-any.whl (56 kB)\n",
            "\u001b[K     |████████████████████████████████| 56 kB 5.0 MB/s \n",
            "\u001b[?25hCollecting httpx\n",
            "  Downloading httpx-0.23.1-py3-none-any.whl (84 kB)\n",
            "\u001b[K     |████████████████████████████████| 84 kB 4.2 MB/s \n",
            "\u001b[?25hRequirement already satisfied: pyyaml in /usr/local/lib/python3.8/dist-packages (from gradio) (6.0)\n",
            "Requirement already satisfied: pillow in /usr/local/lib/python3.8/dist-packages (from gradio) (7.1.2)\n",
            "Requirement already satisfied: aiohttp in /usr/local/lib/python3.8/dist-packages (from gradio) (3.8.3)\n",
            "Collecting python-multipart\n",
            "  Downloading python-multipart-0.0.5.tar.gz (32 kB)\n",
            "Requirement already satisfied: pydantic in /usr/local/lib/python3.8/dist-packages (from gradio) (1.10.2)\n",
            "Collecting fastapi\n",
            "  Downloading fastapi-0.88.0-py3-none-any.whl (55 kB)\n",
            "\u001b[K     |████████████████████████████████| 55 kB 4.1 MB/s \n",
            "\u001b[?25hCollecting websockets>=10.0\n",
            "  Downloading websockets-10.4-cp38-cp38-manylinux_2_5_x86_64.manylinux1_x86_64.manylinux_2_17_x86_64.manylinux2014_x86_64.whl (106 kB)\n",
            "\u001b[K     |████████████████████████████████| 106 kB 48.7 MB/s \n",
            "\u001b[?25hCollecting orjson\n",
            "  Downloading orjson-3.8.3-cp38-cp38-manylinux_2_17_x86_64.manylinux2014_x86_64.whl (278 kB)\n",
            "\u001b[K     |████████████████████████████████| 278 kB 54.0 MB/s \n",
            "\u001b[?25hRequirement already satisfied: fsspec in /usr/local/lib/python3.8/dist-packages (from gradio) (2022.11.0)\n",
            "Requirement already satisfied: pandas in /usr/local/lib/python3.8/dist-packages (from gradio) (1.3.5)\n",
            "Requirement already satisfied: markupsafe in /usr/local/lib/python3.8/dist-packages (from gradio) (2.0.1)\n",
            "Collecting pydub\n",
            "  Downloading pydub-0.25.1-py2.py3-none-any.whl (32 kB)\n",
            "Collecting ffmpy\n",
            "  Downloading ffmpy-0.3.0.tar.gz (4.8 kB)\n",
            "Requirement already satisfied: jinja2 in /usr/local/lib/python3.8/dist-packages (from gradio) (2.11.3)\n",
            "Requirement already satisfied: matplotlib in /usr/local/lib/python3.8/dist-packages (from gradio) (3.2.2)\n",
            "Collecting pycryptodome\n",
            "  Downloading pycryptodome-3.16.0-cp35-abi3-manylinux_2_5_x86_64.manylinux1_x86_64.manylinux_2_12_x86_64.manylinux2010_x86_64.whl (2.3 MB)\n",
            "\u001b[K     |████████████████████████████████| 2.3 MB 46.5 MB/s \n",
            "\u001b[?25hRequirement already satisfied: numpy in /usr/local/lib/python3.8/dist-packages (from gradio) (1.21.6)\n",
            "Requirement already satisfied: jsonschema>=3.0 in /usr/local/lib/python3.8/dist-packages (from altair>=4.2.0->gradio) (4.3.3)\n",
            "Requirement already satisfied: entrypoints in /usr/local/lib/python3.8/dist-packages (from altair>=4.2.0->gradio) (0.4)\n",
            "Requirement already satisfied: toolz in /usr/local/lib/python3.8/dist-packages (from altair>=4.2.0->gradio) (0.12.0)\n",
            "Requirement already satisfied: pyrsistent!=0.17.0,!=0.17.1,!=0.17.2,>=0.14.0 in /usr/local/lib/python3.8/dist-packages (from jsonschema>=3.0->altair>=4.2.0->gradio) (0.19.2)\n",
            "Requirement already satisfied: importlib-resources>=1.4.0 in /usr/local/lib/python3.8/dist-packages (from jsonschema>=3.0->altair>=4.2.0->gradio) (5.10.1)\n",
            "Requirement already satisfied: attrs>=17.4.0 in /usr/local/lib/python3.8/dist-packages (from jsonschema>=3.0->altair>=4.2.0->gradio) (22.1.0)\n",
            "Requirement already satisfied: zipp>=3.1.0 in /usr/local/lib/python3.8/dist-packages (from importlib-resources>=1.4.0->jsonschema>=3.0->altair>=4.2.0->gradio) (3.11.0)\n",
            "Requirement already satisfied: python-dateutil>=2.7.3 in /usr/local/lib/python3.8/dist-packages (from pandas->gradio) (2.8.2)\n",
            "Requirement already satisfied: pytz>=2017.3 in /usr/local/lib/python3.8/dist-packages (from pandas->gradio) (2022.6)\n",
            "Requirement already satisfied: six>=1.5 in /usr/local/lib/python3.8/dist-packages (from python-dateutil>=2.7.3->pandas->gradio) (1.15.0)\n",
            "Requirement already satisfied: multidict<7.0,>=4.5 in /usr/local/lib/python3.8/dist-packages (from aiohttp->gradio) (6.0.3)\n",
            "Requirement already satisfied: yarl<2.0,>=1.0 in /usr/local/lib/python3.8/dist-packages (from aiohttp->gradio) (1.8.2)\n",
            "Requirement already satisfied: async-timeout<5.0,>=4.0.0a3 in /usr/local/lib/python3.8/dist-packages (from aiohttp->gradio) (4.0.2)\n",
            "Requirement already satisfied: frozenlist>=1.1.1 in /usr/local/lib/python3.8/dist-packages (from aiohttp->gradio) (1.3.3)\n",
            "Requirement already satisfied: aiosignal>=1.1.2 in /usr/local/lib/python3.8/dist-packages (from aiohttp->gradio) (1.3.1)\n",
            "Requirement already satisfied: charset-normalizer<3.0,>=2.0 in /usr/local/lib/python3.8/dist-packages (from aiohttp->gradio) (2.1.1)\n",
            "Requirement already satisfied: idna>=2.0 in /usr/local/lib/python3.8/dist-packages (from yarl<2.0,>=1.0->aiohttp->gradio) (2.10)\n",
            "Collecting starlette==0.22.0\n",
            "  Downloading starlette-0.22.0-py3-none-any.whl (64 kB)\n",
            "\u001b[K     |████████████████████████████████| 64 kB 921 kB/s \n",
            "\u001b[?25hRequirement already satisfied: typing-extensions>=3.10.0 in /usr/local/lib/python3.8/dist-packages (from starlette==0.22.0->fastapi->gradio) (4.4.0)\n",
            "Collecting anyio<5,>=3.4.0\n",
            "  Downloading anyio-3.6.2-py3-none-any.whl (80 kB)\n",
            "\u001b[K     |████████████████████████████████| 80 kB 8.5 MB/s \n",
            "\u001b[?25hCollecting sniffio>=1.1\n",
            "  Downloading sniffio-1.3.0-py3-none-any.whl (10 kB)\n",
            "Requirement already satisfied: certifi in /usr/local/lib/python3.8/dist-packages (from httpx->gradio) (2022.12.7)\n",
            "Collecting httpcore<0.17.0,>=0.15.0\n",
            "  Downloading httpcore-0.16.3-py3-none-any.whl (69 kB)\n",
            "\u001b[K     |████████████████████████████████| 69 kB 7.3 MB/s \n",
            "\u001b[?25hCollecting rfc3986[idna2008]<2,>=1.3\n",
            "  Downloading rfc3986-1.5.0-py2.py3-none-any.whl (31 kB)\n",
            "Collecting h11<0.15,>=0.13\n",
            "  Downloading h11-0.14.0-py3-none-any.whl (58 kB)\n",
            "\u001b[K     |████████████████████████████████| 58 kB 6.1 MB/s \n",
            "\u001b[?25hCollecting mdurl~=0.1\n",
            "  Downloading mdurl-0.1.2-py3-none-any.whl (10.0 kB)\n",
            "Collecting mdit-py-plugins\n",
            "  Downloading mdit_py_plugins-0.3.3-py3-none-any.whl (50 kB)\n",
            "\u001b[K     |████████████████████████████████| 50 kB 6.5 MB/s \n",
            "\u001b[?25hCollecting linkify-it-py~=1.0\n",
            "  Downloading linkify_it_py-1.0.3-py3-none-any.whl (19 kB)\n",
            "Collecting uc-micro-py\n",
            "  Downloading uc_micro_py-1.0.1-py3-none-any.whl (6.2 kB)\n",
            "Requirement already satisfied: pyparsing!=2.0.4,!=2.1.2,!=2.1.6,>=2.0.1 in /usr/local/lib/python3.8/dist-packages (from matplotlib->gradio) (3.0.9)\n",
            "Requirement already satisfied: cycler>=0.10 in /usr/local/lib/python3.8/dist-packages (from matplotlib->gradio) (0.11.0)\n",
            "Requirement already satisfied: kiwisolver>=1.0.1 in /usr/local/lib/python3.8/dist-packages (from matplotlib->gradio) (1.4.4)\n",
            "Requirement already satisfied: urllib3!=1.25.0,!=1.25.1,<1.26,>=1.21.1 in /usr/local/lib/python3.8/dist-packages (from requests->gradio) (1.24.3)\n",
            "Requirement already satisfied: chardet<4,>=3.0.2 in /usr/local/lib/python3.8/dist-packages (from requests->gradio) (3.0.4)\n",
            "Requirement already satisfied: click>=7.0 in /usr/local/lib/python3.8/dist-packages (from uvicorn->gradio) (7.1.2)\n",
            "Building wheels for collected packages: ffmpy, python-multipart\n",
            "  Building wheel for ffmpy (setup.py) ... \u001b[?25l\u001b[?25hdone\n",
            "  Created wheel for ffmpy: filename=ffmpy-0.3.0-py3-none-any.whl size=4711 sha256=b9fb4d37615df91cdc35b65b09611c822547f2d253d57166fae80841c6577999\n",
            "  Stored in directory: /root/.cache/pip/wheels/ff/5b/59/913b443e7369dc04b61f607a746b6f7d83fb65e2e19fcc958d\n",
            "  Building wheel for python-multipart (setup.py) ... \u001b[?25l\u001b[?25hdone\n",
            "  Created wheel for python-multipart: filename=python_multipart-0.0.5-py3-none-any.whl size=31678 sha256=8f5397d62413d5c087b97bcc13e6c886c6944c2ee7cd7c3eaf201db4128a70f6\n",
            "  Stored in directory: /root/.cache/pip/wheels/9e/fc/1c/cf980e6413d3ee8e70cd8f39e2366b0f487e3e221aeb452eb0\n",
            "Successfully built ffmpy python-multipart\n",
            "Installing collected packages: sniffio, mdurl, uc-micro-py, rfc3986, markdown-it-py, h11, anyio, starlette, mdit-py-plugins, linkify-it-py, httpcore, websockets, uvicorn, python-multipart, pydub, pycryptodome, orjson, httpx, ffmpy, fastapi, gradio\n",
            "Successfully installed anyio-3.6.2 fastapi-0.88.0 ffmpy-0.3.0 gradio-3.15.0 h11-0.14.0 httpcore-0.16.3 httpx-0.23.1 linkify-it-py-1.0.3 markdown-it-py-2.1.0 mdit-py-plugins-0.3.3 mdurl-0.1.2 orjson-3.8.3 pycryptodome-3.16.0 pydub-0.25.1 python-multipart-0.0.5 rfc3986-1.5.0 sniffio-1.3.0 starlette-0.22.0 uc-micro-py-1.0.1 uvicorn-0.20.0 websockets-10.4\n",
            "Looking in indexes: https://pypi.org/simple, https://us-python.pkg.dev/colab-wheels/public/simple/\n",
            "Collecting sentencepiece==0.1.96\n",
            "  Downloading sentencepiece-0.1.96-cp38-cp38-manylinux_2_17_x86_64.manylinux2014_x86_64.whl (1.2 MB)\n",
            "\u001b[K     |████████████████████████████████| 1.2 MB 4.0 MB/s \n",
            "\u001b[?25hInstalling collected packages: sentencepiece\n",
            "Successfully installed sentencepiece-0.1.96\n",
            "Looking in indexes: https://pypi.org/simple, https://us-python.pkg.dev/colab-wheels/public/simple/\n",
            "Collecting adapter-transformers\n",
            "  Downloading adapter_transformers-3.1.0-py3-none-any.whl (4.8 MB)\n",
            "\u001b[K     |████████████████████████████████| 4.8 MB 4.2 MB/s \n",
            "\u001b[?25hCollecting huggingface-hub<1.0,>=0.1.0\n",
            "  Downloading huggingface_hub-0.11.1-py3-none-any.whl (182 kB)\n",
            "\u001b[K     |████████████████████████████████| 182 kB 65.4 MB/s \n",
            "\u001b[?25hRequirement already satisfied: filelock in /usr/local/lib/python3.8/dist-packages (from adapter-transformers) (3.8.2)\n",
            "Requirement already satisfied: regex!=2019.12.17 in /usr/local/lib/python3.8/dist-packages (from adapter-transformers) (2022.6.2)\n",
            "Requirement already satisfied: requests in /usr/local/lib/python3.8/dist-packages (from adapter-transformers) (2.23.0)\n",
            "Requirement already satisfied: tqdm>=4.27 in /usr/local/lib/python3.8/dist-packages (from adapter-transformers) (4.64.1)\n",
            "Requirement already satisfied: numpy>=1.17 in /usr/local/lib/python3.8/dist-packages (from adapter-transformers) (1.21.6)\n",
            "Requirement already satisfied: packaging>=20.0 in /usr/local/lib/python3.8/dist-packages (from adapter-transformers) (21.3)\n",
            "Requirement already satisfied: pyyaml>=5.1 in /usr/local/lib/python3.8/dist-packages (from adapter-transformers) (6.0)\n",
            "Collecting tokenizers!=0.11.3,<0.13,>=0.11.1\n",
            "  Downloading tokenizers-0.12.1-cp38-cp38-manylinux_2_12_x86_64.manylinux2010_x86_64.whl (6.6 MB)\n",
            "\u001b[K     |████████████████████████████████| 6.6 MB 27.4 MB/s \n",
            "\u001b[?25hRequirement already satisfied: typing-extensions>=3.7.4.3 in /usr/local/lib/python3.8/dist-packages (from huggingface-hub<1.0,>=0.1.0->adapter-transformers) (4.4.0)\n",
            "Requirement already satisfied: pyparsing!=3.0.5,>=2.0.2 in /usr/local/lib/python3.8/dist-packages (from packaging>=20.0->adapter-transformers) (3.0.9)\n",
            "Requirement already satisfied: chardet<4,>=3.0.2 in /usr/local/lib/python3.8/dist-packages (from requests->adapter-transformers) (3.0.4)\n",
            "Requirement already satisfied: idna<3,>=2.5 in /usr/local/lib/python3.8/dist-packages (from requests->adapter-transformers) (2.10)\n",
            "Requirement already satisfied: certifi>=2017.4.17 in /usr/local/lib/python3.8/dist-packages (from requests->adapter-transformers) (2022.12.7)\n",
            "Requirement already satisfied: urllib3!=1.25.0,!=1.25.1,<1.26,>=1.21.1 in /usr/local/lib/python3.8/dist-packages (from requests->adapter-transformers) (1.24.3)\n",
            "Installing collected packages: tokenizers, huggingface-hub, adapter-transformers\n",
            "Successfully installed adapter-transformers-3.1.0 huggingface-hub-0.11.1 tokenizers-0.12.1\n"
          ]
        }
      ]
    },
    {
      "cell_type": "code",
      "source": [
        "from transformers import pipeline\n",
        "import gradio as gr\n",
        "\n",
        "from transformers import AutoModelForQuestionAnswering, AutoTokenizer, pipeline"
      ],
      "metadata": {
        "id": "x9LpcRU057ZU"
      },
      "execution_count": 134,
      "outputs": []
    },
    {
      "cell_type": "code",
      "source": [
        "\n",
        "examples = [\n",
        "    [r\"\"\"\n",
        "    William Shakespeare (April 1564 – 23 April 1616) was an English playwright, \n",
        "    poet and actor. He is widely regarded as the greatest writer in the English language and the world's pre-eminent dramatist. \n",
        "    He is often called England's national poet and the \"Bard of Avon\"\n",
        "    \"\"\", \"When was Shakespeare born?\"] ,\n",
        "\n",
        "    [r\"\"\"\n",
        "    William Shakespeare (April 1564 – 23 April 1616) was an English playwright, \n",
        "    poet and actor. He is widely regarded as the greatest writer in the English language and the world's pre-eminent dramatist. \n",
        "    He is often called England's national poet and the \"Bard of Avon\"\n",
        "    \"\"\", \"Who is Shakespeare?\"],\n",
        "\n",
        "    [r\"\"\"\n",
        "    William Shakespeare (April 1564 – 23 April 1616) was an English playwright, \n",
        "    poet and actor. He is widely regarded as the greatest writer in the English language and the world's pre-eminent dramatist. \n",
        "    He is often called England's national poet and the \"Bard of Avon\"\n",
        "    \"\"\", \"How was Shakespeare often referred to?\"], \n",
        "\n",
        "    [r\"\"\"\n",
        "    William Shakespeare (April 1564 – 23 April 1616) was an English playwright, \n",
        "    poet and actor. He is widely regarded as the greatest writer in the English language and the world's pre-eminent dramatist. \n",
        "    He is often called England's national poet and the \"Bard of Avon\"\n",
        "    \"\"\", \"Did he go to the moon?\"], \n",
        "]\n",
        "\n",
        "gr.Interface.load(\"huggingface/deepset/roberta-base-squad2\", \n",
        "                  inputs=[gr.inputs.Textbox(lines=10, label=\"Context\", placeholder=\"Type a sentence or paragraph here.\"), \n",
        "                          gr.inputs.Textbox(lines=2, label=\"Question\", placeholder=\"Ask a question based on the context.\")],\n",
        "                  outputs=[gr.outputs.Textbox(label=\"Answer\"), \n",
        "                          gr.outputs.Label(label=\"Probability\")],                  \n",
        "                  examples=examples).launch()"
      ],
      "metadata": {
        "colab": {
          "base_uri": "https://localhost:8080/",
          "height": 870
        },
        "id": "y6qiPbUansaj",
        "outputId": "256055df-7fff-43b6-9808-9d82a9385f7d"
      },
      "execution_count": 133,
      "outputs": [
        {
          "output_type": "stream",
          "name": "stderr",
          "text": [
            "/usr/local/lib/python3.8/dist-packages/gradio/inputs.py:26: UserWarning: Usage of gradio.inputs is deprecated, and will not be supported in the future, please import your component from gradio.components\n",
            "  warnings.warn(\n",
            "/usr/local/lib/python3.8/dist-packages/gradio/deprecation.py:40: UserWarning: `optional` parameter is deprecated, and it has no effect\n",
            "  warnings.warn(value)\n",
            "/usr/local/lib/python3.8/dist-packages/gradio/deprecation.py:40: UserWarning: `numeric` parameter is deprecated, and it has no effect\n",
            "  warnings.warn(value)\n",
            "/usr/local/lib/python3.8/dist-packages/gradio/outputs.py:21: UserWarning: Usage of gradio.outputs is deprecated, and will not be supported in the future, please import your components from gradio.components\n",
            "  warnings.warn(\n",
            "/usr/local/lib/python3.8/dist-packages/gradio/outputs.py:196: UserWarning: Usage of gradio.outputs is deprecated, and will not be supported in the future, please import your components from gradio.components\n",
            "  warnings.warn(\n",
            "/usr/local/lib/python3.8/dist-packages/gradio/deprecation.py:40: UserWarning: The 'type' parameter has been deprecated. Use the Number component instead.\n",
            "  warnings.warn(value)\n"
          ]
        },
        {
          "output_type": "stream",
          "name": "stdout",
          "text": [
            "Fetching model from: https://huggingface.co/deepset/roberta-base-squad2\n",
            "Colab notebook detected. To show errors in colab notebook, set debug=True in launch()\n",
            "Note: opening Chrome Inspector may crash demo inside Colab notebooks.\n",
            "\n",
            "To create a public link, set `share=True` in `launch()`.\n"
          ]
        },
        {
          "output_type": "display_data",
          "data": {
            "text/plain": [
              "<IPython.core.display.Javascript object>"
            ],
            "application/javascript": [
              "(async (port, path, width, height, cache, element) => {\n",
              "                        if (!google.colab.kernel.accessAllowed && !cache) {\n",
              "                            return;\n",
              "                        }\n",
              "                        element.appendChild(document.createTextNode(''));\n",
              "                        const url = await google.colab.kernel.proxyPort(port, {cache});\n",
              "\n",
              "                        const external_link = document.createElement('div');\n",
              "                        external_link.innerHTML = `\n",
              "                            <div style=\"font-family: monospace; margin-bottom: 0.5rem\">\n",
              "                                Running on <a href=${new URL(path, url).toString()} target=\"_blank\">\n",
              "                                    https://localhost:${port}${path}\n",
              "                                </a>\n",
              "                            </div>\n",
              "                        `;\n",
              "                        element.appendChild(external_link);\n",
              "\n",
              "                        const iframe = document.createElement('iframe');\n",
              "                        iframe.src = new URL(path, url).toString();\n",
              "                        iframe.height = height;\n",
              "                        iframe.allow = \"autoplay; camera; microphone; clipboard-read; clipboard-write;\"\n",
              "                        iframe.width = width;\n",
              "                        iframe.style.border = 0;\n",
              "                        element.appendChild(iframe);\n",
              "                    })(7875, \"/\", \"100%\", 500, false, window.element)"
            ]
          },
          "metadata": {}
        },
        {
          "output_type": "execute_result",
          "data": {
            "text/plain": []
          },
          "metadata": {},
          "execution_count": 133
        }
      ]
    },
    {
      "cell_type": "markdown",
      "source": [
        "# Only Q&A"
      ],
      "metadata": {
        "id": "LzzDeqFL3quU"
      }
    },
    {
      "cell_type": "markdown",
      "source": [
        "## deepset/roberta-base-squad2"
      ],
      "metadata": {
        "id": "X08lo97F3BJC"
      }
    },
    {
      "cell_type": "code",
      "source": [
        "model_name = 'deepset/roberta-base-squad2'\n",
        "nlp = pipeline('question-answering', model=model_name, tokenizer=model_name)\n",
        "def retrieve_answer(ctx_input, q_input):\n",
        "\n",
        "    QA_input = {\n",
        "        'question': q_input,\n",
        "        'context': ctx_input\n",
        "        }\n",
        "    res = nlp(QA_input)\n",
        "\n",
        "\n",
        "    return res['answer'] , round(res['score'], 3)"
      ],
      "metadata": {
        "id": "wv5WUZ-atDxC"
      },
      "execution_count": 135,
      "outputs": []
    },
    {
      "cell_type": "code",
      "source": [
        "retrieve_answer(ctx_input = \"I am studying Master's degree in Paris\", \n",
        "                q_input = 'What is my education?')"
      ],
      "metadata": {
        "colab": {
          "base_uri": "https://localhost:8080/"
        },
        "id": "W1WAIpvEx8pt",
        "outputId": "90f34060-f743-46f9-8ba9-9d927182cbf3"
      },
      "execution_count": 136,
      "outputs": [
        {
          "output_type": "execute_result",
          "data": {
            "text/plain": [
              "(\"Master's degree\", 0.133)"
            ]
          },
          "metadata": {},
          "execution_count": 136
        }
      ]
    },
    {
      "cell_type": "code",
      "source": [
        "context_input = gr.TextArea(label = 'Context')\n",
        "question_input = gr.Textbox(label = 'Question')\n",
        "\n",
        "output_answer = gr.Textbox(label = 'Answer')\n",
        "output_prob = gr.Textbox(label = 'Probability')\n",
        "\n",
        "examples = [\n",
        "    [r\"\"\"\n",
        "    William Shakespeare (April 1564 – 23 April 1616) was an English playwright, \n",
        "    poet and actor. He is widely regarded as the greatest writer in the English language and the world's pre-eminent dramatist. \n",
        "    He is often called England's national poet and the \"Bard of Avon\"\n",
        "    \"\"\", \"When was Shakespeare born?\"],\n",
        "\n",
        "\n",
        "    [r\"\"\"\n",
        "    William Shakespeare (April 1564 – 23 April 1616) was an English playwright, \n",
        "    poet and actor. He is widely regarded as the greatest writer in the English language and the world's pre-eminent dramatist. \n",
        "    He is often called England's national poet and the \"Bard of Avon\"\n",
        "    \"\"\", \"Who is Shakespeare?\"],\n",
        "\n",
        "    [r\"\"\"\n",
        "    William Shakespeare (April 1564 – 23 April 1616) was an English playwright, \n",
        "    poet and actor. He is widely regarded as the greatest writer in the English language and the world's pre-eminent dramatist. \n",
        "    He is often called England's national poet and the \"Bard of Avon\"\n",
        "    \"\"\", \"How was Shakespeare referred to?\"],\n",
        "\n",
        "    [r\"\"\"\n",
        "    William Shakespeare (April 1564 – 23 April 1616) was an English playwright, \n",
        "    poet and actor. He is widely regarded as the greatest writer in the English language and the world's pre-eminent dramatist. \n",
        "    He is often called England's national poet and the \"Bard of Avon\"\n",
        "    \"\"\", \"Did Shakespeare go to the moon?\"],\n",
        "\n",
        "    [r\"\"\"\n",
        "    Shakespeare produced most of his known works between 1589 and 1613.\n",
        "    His early plays were primarily comedies and histories and are regarded as some of the best works produced in these genres. \n",
        "    He then wrote mainly tragedies until 1608, among them Hamlet, Romeo and Juliet, Othello, King Lear, and Macbeth, \n",
        "    all considered to be among the finest works in the English language. \n",
        "    \"\"\", \"What are the plays by Shakespeare?\"], \n",
        "\n",
        "    [r\"\"\"\n",
        "    Shakespeare produced most of his known works between 1589 and 1613.\n",
        "    His early plays were primarily comedies and histories and are regarded as some of the best works produced in these genres. \n",
        "    He then wrote mainly tragedies until 1608, among them Hamlet, Romeo and Juliet, Othello, King Lear, and Macbeth, \n",
        "    all considered to be among the finest works in the English language. \n",
        "    \"\"\", \"Did Shakespear write 'Les Miserables'?\"], \n",
        "\n",
        "\n",
        "]"
      ],
      "metadata": {
        "id": "p_16PHfruNQW"
      },
      "execution_count": 137,
      "outputs": []
    },
    {
      "cell_type": "code",
      "source": [
        "gui = gr.Interface(fn = retrieve_answer,\n",
        "                   inputs= [context_input, question_input],\n",
        "                   outputs = [output_answer, output_prob],\n",
        "                   title=f\"{model_name}\",\n",
        "                   description = \"This system provides extractive question and answering based on given context\",\n",
        "                   examples = examples)\n",
        "\n",
        "gui.launch(debug =True)"
      ],
      "metadata": {
        "colab": {
          "base_uri": "https://localhost:8080/",
          "height": 656
        },
        "id": "D68fYNJ7w3Ed",
        "outputId": "95179973-0444-4a26-d37b-5c0506959c24"
      },
      "execution_count": 138,
      "outputs": [
        {
          "output_type": "stream",
          "name": "stdout",
          "text": [
            "Colab notebook detected. This cell will run indefinitely so that you can see errors and logs. To turn off, set debug=False in launch().\n",
            "Note: opening Chrome Inspector may crash demo inside Colab notebooks.\n",
            "\n",
            "To create a public link, set `share=True` in `launch()`.\n"
          ]
        },
        {
          "output_type": "display_data",
          "data": {
            "text/plain": [
              "<IPython.core.display.Javascript object>"
            ],
            "application/javascript": [
              "(async (port, path, width, height, cache, element) => {\n",
              "                        if (!google.colab.kernel.accessAllowed && !cache) {\n",
              "                            return;\n",
              "                        }\n",
              "                        element.appendChild(document.createTextNode(''));\n",
              "                        const url = await google.colab.kernel.proxyPort(port, {cache});\n",
              "\n",
              "                        const external_link = document.createElement('div');\n",
              "                        external_link.innerHTML = `\n",
              "                            <div style=\"font-family: monospace; margin-bottom: 0.5rem\">\n",
              "                                Running on <a href=${new URL(path, url).toString()} target=\"_blank\">\n",
              "                                    https://localhost:${port}${path}\n",
              "                                </a>\n",
              "                            </div>\n",
              "                        `;\n",
              "                        element.appendChild(external_link);\n",
              "\n",
              "                        const iframe = document.createElement('iframe');\n",
              "                        iframe.src = new URL(path, url).toString();\n",
              "                        iframe.height = height;\n",
              "                        iframe.allow = \"autoplay; camera; microphone; clipboard-read; clipboard-write;\"\n",
              "                        iframe.width = width;\n",
              "                        iframe.style.border = 0;\n",
              "                        element.appendChild(iframe);\n",
              "                    })(7876, \"/\", \"100%\", 500, false, window.element)"
            ]
          },
          "metadata": {}
        },
        {
          "output_type": "stream",
          "name": "stdout",
          "text": [
            "Keyboard interruption in main thread... closing server.\n"
          ]
        },
        {
          "output_type": "execute_result",
          "data": {
            "text/plain": []
          },
          "metadata": {},
          "execution_count": 138
        }
      ]
    },
    {
      "cell_type": "markdown",
      "source": [
        "## Generative Question & Answering"
      ],
      "metadata": {
        "id": "vlIUgRi-4m9D"
      }
    },
    {
      "cell_type": "code",
      "source": [
        "from  transformers  import  AutoTokenizer, AutoModelWithLMHead, pipeline\n",
        "\n",
        "model_name = \"MaRiOrOsSi/t5-base-finetuned-question-answering\"\n",
        "tokenizer = AutoTokenizer.from_pretrained(model_name)\n",
        "model = AutoModelWithLMHead.from_pretrained(model_name)\n",
        "question = \"What is 42?\"\n",
        "context = \"42 is the answer to life, the universe and everything\"\n",
        "input = f\"question: {question} context: {context}\"\n",
        "encoded_input = tokenizer([input],\n",
        "                             return_tensors='pt',\n",
        "                             max_length=1000,\n",
        "                             truncation=True)\n",
        "output = model.generate(input_ids = encoded_input.input_ids,\n",
        "                            attention_mask = encoded_input.attention_mask,\n",
        "                            num_beams=5, \n",
        "                            no_repeat_ngram_size=2)\n",
        "output = tokenizer.decode(output[0], skip_special_tokens=True)\n",
        "print(output)\n"
      ],
      "metadata": {
        "colab": {
          "base_uri": "https://localhost:8080/"
        },
        "id": "K8a_FwbnyQ3V",
        "outputId": "311c7a9f-0c16-4e1b-f5eb-e6930993aa58"
      },
      "execution_count": 139,
      "outputs": [
        {
          "output_type": "stream",
          "name": "stderr",
          "text": [
            "/usr/local/lib/python3.8/dist-packages/transformers/models/auto/modeling_auto.py:1177: FutureWarning: The class `AutoModelWithLMHead` is deprecated and will be removed in a future version. Please use `AutoModelForCausalLM` for causal language models, `AutoModelForMaskedLM` for masked language models and `AutoModelForSeq2SeqLM` for encoder-decoder models.\n",
            "  warnings.warn(\n",
            "/usr/local/lib/python3.8/dist-packages/transformers/generation/utils.py:1387: UserWarning: Neither `max_length` nor `max_new_tokens` has been set, `max_length` will default to 20 (`self.config.max_length`). Controlling `max_length` via the config is deprecated and `max_length` will be removed from the config in v5 of Transformers -- we recommend using `max_new_tokens` to control the maximum length of the generation.\n",
            "  warnings.warn(\n"
          ]
        },
        {
          "output_type": "stream",
          "name": "stdout",
          "text": [
            "The answer to life, the universe, and everything in it's entirety.\n"
          ]
        }
      ]
    },
    {
      "cell_type": "code",
      "source": [
        "from  transformers  import  AutoTokenizer, AutoModelWithLMHead, pipeline\n",
        "\n",
        "model_name = \"MaRiOrOsSi/t5-base-finetuned-question-answering\"\n",
        "tokenizer = AutoTokenizer.from_pretrained(model_name)\n",
        "model = AutoModelWithLMHead.from_pretrained(model_name)\n",
        "\n",
        "def generate_answer(ctx_input, q_input):\n",
        "    question = q_input\n",
        "    context = ctx_input\n",
        "    input = f\"question: {question} context: {context}\"\n",
        "    encoded_input = tokenizer([input],\n",
        "                             return_tensors='pt',\n",
        "                             max_length=512,\n",
        "                             truncation=True)\n",
        "    output = model.generate(input_ids = encoded_input.input_ids,\n",
        "                            attention_mask = encoded_input.attention_mask,\n",
        "                            max_length=126,\n",
        "                            num_beams=5, \n",
        "         )\n",
        "\n",
        "                            # no_repeat_ngram_size=2) # this return only the tokens\n",
        "    output = tokenizer.decode(output[0], skip_special_tokens=True)\n",
        "\n",
        "    return output"
      ],
      "metadata": {
        "id": "n-htZzDO8QfH"
      },
      "execution_count": 140,
      "outputs": []
    },
    {
      "cell_type": "code",
      "source": [
        "context_input = gr.TextArea(label = 'Context')\n",
        "question_input = gr.Textbox(label = 'Question')\n",
        "\n",
        "output_answer = gr.Textbox(label = 'Answer')\n",
        "\n",
        "examples = [\n",
        "    [r\"\"\"\n",
        "    William Shakespeare (April 1564 – 23 April 1616) was an English playwright, \n",
        "    poet and actor. He is widely regarded as the greatest writer in the English language and the world's pre-eminent dramatist. \n",
        "    He is often called England's national poet and the \"Bard of Avon\"\n",
        "    \"\"\", \"When was Shakespeare born?\"],\n",
        "\n",
        "        [r\"\"\"\n",
        "    William Shakespeare (April 1564 – 23 April 1616) was an English playwright, \n",
        "    poet and actor. He is widely regarded as the greatest writer in the English language and the world's pre-eminent dramatist. \n",
        "    He is often called England's national poet and the \"Bard of Avon\"\n",
        "    \"\"\", \"Who is Shakespeare?\"],\n",
        "\n",
        "    [r\"\"\"\n",
        "    William Shakespeare (April 1564 – 23 April 1616) was an English playwright, \n",
        "    poet and actor. He is widely regarded as the greatest writer in the English language and the world's pre-eminent dramatist. \n",
        "    He is often called England's national poet and the \"Bard of Avon\"\n",
        "    \"\"\", \"How was Shakespeare referred to?\"],\n",
        "\n",
        "    [r\"\"\"\n",
        "    William Shakespeare (April 1564 – 23 April 1616) was an English playwright, \n",
        "    poet and actor. He is widely regarded as the greatest writer in the English language and the world's pre-eminent dramatist. \n",
        "    He is often called England's national poet and the \"Bard of Avon\"\n",
        "    \"\"\", \"Did Shakespeare go to the moon?\"],\n",
        "\n",
        "    [r\"\"\"\n",
        "    Shakespeare produced most of his known works between 1589 and 1613.\n",
        "    His early plays were primarily comedies and histories and are regarded as some of the best works produced in these genres. \n",
        "    He then wrote mainly tragedies until 1608, among them Hamlet, Romeo and Juliet, Othello, King Lear, and Macbeth, \n",
        "    all considered to be among the finest works in the English language. \n",
        "    \"\"\", \"What are the plays by Shakespeare?\"], \n",
        "\n",
        "    [r\"\"\"\n",
        "    Shakespeare produced most of his known works between 1589 and 1613.\n",
        "    His early plays were primarily comedies and histories and are regarded as some of the best works produced in these genres. \n",
        "    He then wrote mainly tragedies until 1608, among them Hamlet, Romeo and Juliet, Othello, King Lear, and Macbeth, \n",
        "    all considered to be among the finest works in the English language. \n",
        "    \"\"\", \"Did Shakespeare write the play 'Les Miserables'?\"], \n",
        "\n",
        "\n",
        "]\n",
        "\n",
        "\n",
        "gui = gr.Interface(fn = generate_answer,\n",
        "                   inputs= [context_input, question_input],\n",
        "                   outputs = output_answer,\n",
        "                   title=f\"{model_name}\",\n",
        "                   description = \"This system provides generative question and answering based on given context\",\n",
        "                   examples = examples)\n",
        "\n",
        "gui.launch(debug =True)"
      ],
      "metadata": {
        "colab": {
          "base_uri": "https://localhost:8080/",
          "height": 656
        },
        "id": "s_HI_Gnx8yyK",
        "outputId": "dc76118d-872c-4550-fd04-d425c32ffef3"
      },
      "execution_count": 141,
      "outputs": [
        {
          "output_type": "stream",
          "name": "stdout",
          "text": [
            "Colab notebook detected. This cell will run indefinitely so that you can see errors and logs. To turn off, set debug=False in launch().\n",
            "Note: opening Chrome Inspector may crash demo inside Colab notebooks.\n",
            "\n",
            "To create a public link, set `share=True` in `launch()`.\n"
          ]
        },
        {
          "output_type": "display_data",
          "data": {
            "text/plain": [
              "<IPython.core.display.Javascript object>"
            ],
            "application/javascript": [
              "(async (port, path, width, height, cache, element) => {\n",
              "                        if (!google.colab.kernel.accessAllowed && !cache) {\n",
              "                            return;\n",
              "                        }\n",
              "                        element.appendChild(document.createTextNode(''));\n",
              "                        const url = await google.colab.kernel.proxyPort(port, {cache});\n",
              "\n",
              "                        const external_link = document.createElement('div');\n",
              "                        external_link.innerHTML = `\n",
              "                            <div style=\"font-family: monospace; margin-bottom: 0.5rem\">\n",
              "                                Running on <a href=${new URL(path, url).toString()} target=\"_blank\">\n",
              "                                    https://localhost:${port}${path}\n",
              "                                </a>\n",
              "                            </div>\n",
              "                        `;\n",
              "                        element.appendChild(external_link);\n",
              "\n",
              "                        const iframe = document.createElement('iframe');\n",
              "                        iframe.src = new URL(path, url).toString();\n",
              "                        iframe.height = height;\n",
              "                        iframe.allow = \"autoplay; camera; microphone; clipboard-read; clipboard-write;\"\n",
              "                        iframe.width = width;\n",
              "                        iframe.style.border = 0;\n",
              "                        element.appendChild(iframe);\n",
              "                    })(7876, \"/\", \"100%\", 500, false, window.element)"
            ]
          },
          "metadata": {}
        },
        {
          "output_type": "stream",
          "name": "stdout",
          "text": [
            "Keyboard interruption in main thread... closing server.\n"
          ]
        },
        {
          "output_type": "execute_result",
          "data": {
            "text/plain": []
          },
          "metadata": {},
          "execution_count": 141
        }
      ]
    },
    {
      "cell_type": "markdown",
      "source": [
        "# BOT"
      ],
      "metadata": {
        "id": "W3vplyty5FUY"
      }
    },
    {
      "cell_type": "code",
      "source": [
        "input_1 = gr.Textbox()\n",
        "input_2 = gr.Textbox()\n",
        "\n",
        "\n",
        "def plus(a:int, b:int):\n",
        "    number = int(a) + int(b)\n",
        "    return str(number)"
      ],
      "metadata": {
        "id": "W3zxlQZoAVbO"
      },
      "execution_count": 142,
      "outputs": []
    },
    {
      "cell_type": "code",
      "source": [
        "import random\n",
        "import gradio as gr\n",
        "\n",
        "def chat(num_a, num_b, history = []):\n",
        "\n",
        "    message = f\"{str(num_a)} +  {str(num_b)}\"\n",
        "    response = plus(num_a, num_b)\n",
        "\n",
        "\n",
        "    history.append((message, response))\n",
        "    return history, history\n",
        "\n",
        "chatbot = gr.Chatbot().style(color_map=(\"green\", \"pink\"))\n",
        "demo = gr.Interface(\n",
        "    fn = chat,\n",
        "    inputs= [input_1, input_2, 'state'],\n",
        "    outputs= [chatbot, 'state'],\n",
        "    allow_flagging=\"never\",\n",
        ")\n",
        "if __name__ == \"__main__\":\n",
        "    demo.launch()\n"
      ],
      "metadata": {
        "colab": {
          "base_uri": "https://localhost:8080/",
          "height": 618
        },
        "id": "5SG-fWjy5GvA",
        "outputId": "9c033bb9-accd-4eac-e030-4ef1f8b73c8f"
      },
      "execution_count": 143,
      "outputs": [
        {
          "output_type": "stream",
          "name": "stdout",
          "text": [
            "Colab notebook detected. To show errors in colab notebook, set debug=True in launch()\n",
            "Note: opening Chrome Inspector may crash demo inside Colab notebooks.\n",
            "\n",
            "To create a public link, set `share=True` in `launch()`.\n"
          ]
        },
        {
          "output_type": "display_data",
          "data": {
            "text/plain": [
              "<IPython.core.display.Javascript object>"
            ],
            "application/javascript": [
              "(async (port, path, width, height, cache, element) => {\n",
              "                        if (!google.colab.kernel.accessAllowed && !cache) {\n",
              "                            return;\n",
              "                        }\n",
              "                        element.appendChild(document.createTextNode(''));\n",
              "                        const url = await google.colab.kernel.proxyPort(port, {cache});\n",
              "\n",
              "                        const external_link = document.createElement('div');\n",
              "                        external_link.innerHTML = `\n",
              "                            <div style=\"font-family: monospace; margin-bottom: 0.5rem\">\n",
              "                                Running on <a href=${new URL(path, url).toString()} target=\"_blank\">\n",
              "                                    https://localhost:${port}${path}\n",
              "                                </a>\n",
              "                            </div>\n",
              "                        `;\n",
              "                        element.appendChild(external_link);\n",
              "\n",
              "                        const iframe = document.createElement('iframe');\n",
              "                        iframe.src = new URL(path, url).toString();\n",
              "                        iframe.height = height;\n",
              "                        iframe.allow = \"autoplay; camera; microphone; clipboard-read; clipboard-write;\"\n",
              "                        iframe.width = width;\n",
              "                        iframe.style.border = 0;\n",
              "                        element.appendChild(iframe);\n",
              "                    })(7876, \"/\", \"100%\", 500, false, window.element)"
            ]
          },
          "metadata": {}
        }
      ]
    },
    {
      "cell_type": "markdown",
      "source": [
        "## Complete bot"
      ],
      "metadata": {
        "id": "jMQ9L_5pjd-k"
      }
    },
    {
      "cell_type": "code",
      "source": [
        "def confidence_star(probability_score):\n",
        "    if probability_score >= 0.8:\n",
        "        stars= \"⭐️\" * 5\n",
        "    elif probability_score >= 0.6:\n",
        "        stars= \"⭐️\" * 4\n",
        "    elif probability_score >= 0.4:\n",
        "        stars= \"⭐️\" * 3\n",
        "    elif probability_score >= 0.2:\n",
        "        stars= \"⭐️\" * 2\n",
        "    else:\n",
        "        stars= \"⭐️\"\n",
        "    return stars"
      ],
      "metadata": {
        "id": "F139wuQHGTkW"
      },
      "execution_count": 82,
      "outputs": []
    },
    {
      "cell_type": "code",
      "source": [
        "confidence_star(0.12)"
      ],
      "metadata": {
        "colab": {
          "base_uri": "https://localhost:8080/",
          "height": 35
        },
        "id": "W4Mud48cGhkc",
        "outputId": "e5745507-fe42-47f2-8ca3-d9c55be400f6"
      },
      "execution_count": 84,
      "outputs": [
        {
          "output_type": "execute_result",
          "data": {
            "text/plain": [
              "'⭐️'"
            ],
            "application/vnd.google.colaboratory.intrinsic+json": {
              "type": "string"
            }
          },
          "metadata": {},
          "execution_count": 84
        }
      ]
    },
    {
      "cell_type": "code",
      "source": [
        "prob_model_name = 'deepset/roberta-base-squad2'\n",
        "prob_pipeline = pipeline('question-answering', model=prob_model_name, tokenizer=prob_model_name)\n",
        "\n",
        "\n",
        "answerer_model_name = \"MaRiOrOsSi/t5-base-finetuned-question-answering\"\n",
        "tokenizer = AutoTokenizer.from_pretrained(answerer_model_name)\n",
        "model = AutoModelWithLMHead.from_pretrained(answerer_model_name)"
      ],
      "metadata": {
        "colab": {
          "base_uri": "https://localhost:8080/"
        },
        "id": "kBPNVbZRJtIY",
        "outputId": "abc5eb8c-bd04-4f8a-fb94-cb09aeb5496f"
      },
      "execution_count": 144,
      "outputs": [
        {
          "output_type": "stream",
          "name": "stderr",
          "text": [
            "/usr/local/lib/python3.8/dist-packages/transformers/models/auto/modeling_auto.py:1177: FutureWarning: The class `AutoModelWithLMHead` is deprecated and will be removed in a future version. Please use `AutoModelForCausalLM` for causal language models, `AutoModelForMaskedLM` for masked language models and `AutoModelForSeq2SeqLM` for encoder-decoder models.\n",
            "  warnings.warn(\n"
          ]
        }
      ]
    },
    {
      "cell_type": "code",
      "source": [
        "def retrieve_probability(ctx_input, q_input):\n",
        "\n",
        "    QA_input = {\n",
        "        'question': q_input,\n",
        "        'context': ctx_input\n",
        "        }\n",
        "    response = nlp(QA_input)\n",
        "\n",
        "\n",
        "    return response['score']\n",
        "\n",
        "def generate_answer(ctx_input, q_input):\n",
        "    question = q_input\n",
        "    context = ctx_input\n",
        "    input = f\"question: {question} context: {context}\"\n",
        "    encoded_input = tokenizer([input],\n",
        "                             return_tensors='pt',\n",
        "                             max_length=512,\n",
        "                             truncation=True)\n",
        "    output = model.generate(input_ids = encoded_input.input_ids,\n",
        "                            attention_mask = encoded_input.attention_mask,\n",
        "                            max_length=126,\n",
        "                            num_beams=5, \n",
        "         )\n",
        "\n",
        "                            # no_repeat_ngram_size=2) # this return only the tokens\n",
        "    output = tokenizer.decode(output[0], skip_special_tokens=True)\n",
        "\n",
        "    return output\n",
        "\n",
        "def confidence_star(probability_score):\n",
        "    if probability_score >= 0.8:\n",
        "        stars= \"⭐️\" * 5\n",
        "    elif probability_score >= 0.6:\n",
        "        stars= \"⭐️\" * 4\n",
        "    elif probability_score >= 0.4:\n",
        "        stars= \"⭐️\" * 3\n",
        "    elif probability_score >= 0.2:\n",
        "        stars= \"⭐️\" * 2\n",
        "    else:\n",
        "        stars= \"⭐️\"\n",
        "    return stars\n",
        "\n",
        "\n",
        "def generate_answer_with_confidence(ctx_input, q_input):\n",
        "    answer = generate_answer(ctx_input, q_input)\n",
        "    confidence= retrieve_probability(ctx_input, q_input)\n",
        "    stars = confidence_star(confidence)\n",
        "\n",
        "    complete_answer = f\"\"\"confidence: {stars}\\n\\n{answer}\"\"\"\n",
        "\n",
        "    return complete_answer\n"
      ],
      "metadata": {
        "id": "Rl2bG8feGism"
      },
      "execution_count": 145,
      "outputs": []
    },
    {
      "cell_type": "code",
      "source": [
        "ctx_test = \"\"\"\n",
        "    William Shakespeare (April 1564 – 23 April 1616) was an English playwright, \n",
        "    poet and actor. He is widely regarded as the greatest writer in the English language and the world's pre-eminent dramatist. \n",
        "    He is often called England's national poet and the \"Bard of Avon\n",
        "    \"\"\"\n",
        "q_test = \"How is Shakespeare referred to?\""
      ],
      "metadata": {
        "id": "0OqY-6LQH1rw"
      },
      "execution_count": 146,
      "outputs": []
    },
    {
      "cell_type": "code",
      "source": [
        "print(generate_answer_with_confidence(ctx_test, q_test))"
      ],
      "metadata": {
        "colab": {
          "base_uri": "https://localhost:8080/"
        },
        "id": "XnkJDwfSIBuG",
        "outputId": "5ff44f8a-80a0-4e1c-eb50-5cda20136040"
      },
      "execution_count": 147,
      "outputs": [
        {
          "output_type": "stream",
          "name": "stdout",
          "text": [
            "confidence: ⭐️⭐️⭐️\n",
            "\n",
            "England's national poet and the \"Bard of Avon\"\n"
          ]
        }
      ]
    },
    {
      "cell_type": "code",
      "source": [
        "input_1 = gr.TextArea(label = 'Context')\n",
        "input_2 = gr.Textbox(label = 'Question')\n",
        "\n",
        "def chat(context, question, history = []):\n",
        "\n",
        "    message = question\n",
        "    response = generate_answer_with_confidence(context, question)\n",
        "\n",
        "\n",
        "    history.append((message, response))\n",
        "    return history, history\n",
        "\n",
        "chatbot = gr.Chatbot().style(color_map=(\"green\", \"pink\"))\n",
        "\n",
        "\n",
        "examples = [\n",
        "    [r\"\"\"\n",
        "    William Shakespeare (April 1564 – 23 April 1616) was an English playwright, \n",
        "    poet and actor. He is widely regarded as the greatest writer in the English language and the world's pre-eminent dramatist. \n",
        "    He is often called England's national poet and the \"Bard of Avon\"\n",
        "    \"\"\", \"When was Shakespeare born?\"],\n",
        "\n",
        "        [r\"\"\"\n",
        "    William Shakespeare (April 1564 – 23 April 1616) was an English playwright, \n",
        "    poet and actor. He is widely regarded as the greatest writer in the English language and the world's pre-eminent dramatist. \n",
        "    He is often called England's national poet and the \"Bard of Avon\"\n",
        "    \"\"\", \"Who is Shakespeare?\"],\n",
        "\n",
        "    [r\"\"\"\n",
        "    William Shakespeare (April 1564 – 23 April 1616) was an English playwright, \n",
        "    poet and actor. He is widely regarded as the greatest writer in the English language and the world's pre-eminent dramatist. \n",
        "    He is often called England's national poet and the \"Bard of Avon\"\n",
        "    \"\"\", \"How was Shakespeare referred as?\"],\n",
        "\n",
        "    [r\"\"\"\n",
        "    William Shakespeare (April 1564 – 23 April 1616) was an English playwright, \n",
        "    poet and actor. He is widely regarded as the greatest writer in the English language and the world's pre-eminent dramatist. \n",
        "    He is often called England's national poet and the \"Bard of Avon\"\n",
        "    \"\"\", \"Did Shakespeare go to the moon?\"],\n",
        "\n",
        "    [r\"\"\"\n",
        "    Shakespeare produced most of his known works between 1589 and 1613.\n",
        "    His early plays were primarily comedies and histories and are regarded as some of the best works produced in these genres. \n",
        "    He then wrote mainly tragedies until 1608, among them Hamlet, Romeo and Juliet, Othello, King Lear, and Macbeth, \n",
        "    all considered to be among the finest works in the English language. \n",
        "    \"\"\", \"What are the plays by Shakespeare?\"], \n",
        "\n",
        "    [r\"\"\"\n",
        "    Shakespeare produced most of his known works between 1589 and 1613.\n",
        "    His early plays were primarily comedies and histories and are regarded as some of the best works produced in these genres. \n",
        "    He then wrote mainly tragedies until 1608, among them Hamlet, Romeo and Juliet, Othello, King Lear, and Macbeth, \n",
        "    all considered to be among the finest works in the English language. \n",
        "    \"\"\", \"Did Shakespeare write the play 'Les Miserables'?\"], \n",
        "\n",
        "\n",
        "]\n",
        "\n"
      ],
      "metadata": {
        "id": "t0grGhpuIEPO"
      },
      "execution_count": 148,
      "outputs": []
    },
    {
      "cell_type": "code",
      "source": [
        "chat('im sad', 'what am I')"
      ],
      "metadata": {
        "colab": {
          "base_uri": "https://localhost:8080/"
        },
        "id": "e2Qap0vsMCYL",
        "outputId": "6cc57d4d-bcc7-46d9-9a98-666d360e0c09"
      },
      "execution_count": 149,
      "outputs": [
        {
          "output_type": "execute_result",
          "data": {
            "text/plain": [
              "([('what am I', \"confidence: ⭐️\\n\\nI'm sad\")],\n",
              " [('what am I', \"confidence: ⭐️\\n\\nI'm sad\")])"
            ]
          },
          "metadata": {},
          "execution_count": 149
        }
      ]
    },
    {
      "cell_type": "code",
      "source": [
        "demo = gr.Interface(\n",
        "    fn = chat,\n",
        "    inputs= [input_1, input_2, 'state'],\n",
        "    outputs= [chatbot, 'state'],\n",
        "    examples = examples,\n",
        "    allow_flagging=\"never\",\n",
        ")\n",
        "if __name__ == \"__main__\":\n",
        "    demo.launch()"
      ],
      "metadata": {
        "colab": {
          "base_uri": "https://localhost:8080/",
          "height": 618
        },
        "id": "nKNg-PbXLMLB",
        "outputId": "28fd006c-3916-4a84-866b-25bb07d2d428"
      },
      "execution_count": 150,
      "outputs": [
        {
          "output_type": "stream",
          "name": "stdout",
          "text": [
            "Colab notebook detected. To show errors in colab notebook, set debug=True in launch()\n",
            "Note: opening Chrome Inspector may crash demo inside Colab notebooks.\n",
            "\n",
            "To create a public link, set `share=True` in `launch()`.\n"
          ]
        },
        {
          "output_type": "display_data",
          "data": {
            "text/plain": [
              "<IPython.core.display.Javascript object>"
            ],
            "application/javascript": [
              "(async (port, path, width, height, cache, element) => {\n",
              "                        if (!google.colab.kernel.accessAllowed && !cache) {\n",
              "                            return;\n",
              "                        }\n",
              "                        element.appendChild(document.createTextNode(''));\n",
              "                        const url = await google.colab.kernel.proxyPort(port, {cache});\n",
              "\n",
              "                        const external_link = document.createElement('div');\n",
              "                        external_link.innerHTML = `\n",
              "                            <div style=\"font-family: monospace; margin-bottom: 0.5rem\">\n",
              "                                Running on <a href=${new URL(path, url).toString()} target=\"_blank\">\n",
              "                                    https://localhost:${port}${path}\n",
              "                                </a>\n",
              "                            </div>\n",
              "                        `;\n",
              "                        element.appendChild(external_link);\n",
              "\n",
              "                        const iframe = document.createElement('iframe');\n",
              "                        iframe.src = new URL(path, url).toString();\n",
              "                        iframe.height = height;\n",
              "                        iframe.allow = \"autoplay; camera; microphone; clipboard-read; clipboard-write;\"\n",
              "                        iframe.width = width;\n",
              "                        iframe.style.border = 0;\n",
              "                        element.appendChild(iframe);\n",
              "                    })(7877, \"/\", \"100%\", 500, false, window.element)"
            ]
          },
          "metadata": {}
        }
      ]
    }
  ]
}